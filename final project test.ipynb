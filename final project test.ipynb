{
 "metadata": {
  "name": "",
  "signature": "sha256:16cf44c4954837262e352d1dee61edb9cf85c82f3ec7f271cfe3a0544e947cd7"
 },
 "nbformat": 3,
 "nbformat_minor": 0,
 "worksheets": [
  {
   "cells": [
    {
     "cell_type": "heading",
     "level": 1,
     "metadata": {},
     "source": [
      "Thanisisa test\u5934\u9a6c\u514bnotebook"
     ]
    },
    {
     "cell_type": "markdown",
     "metadata": {},
     "source": [
      "gjjhgkjvkhjvkjh"
     ]
    },
    {
     "cell_type": "code",
     "collapsed": false,
     "input": [],
     "language": "python",
     "metadata": {},
     "outputs": []
    }
   ],
   "metadata": {}
  }
 ]
}