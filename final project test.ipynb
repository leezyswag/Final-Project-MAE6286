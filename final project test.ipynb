{
 "metadata": {
  "name": "",
  "signature": "sha256:cc9e508f7c745456f212cdef7e8b601692f28823919ea21b546f491a1599de9c"
 },
 "nbformat": 3,
 "nbformat_minor": 0,
 "worksheets": [
  {
   "cells": [
    {
     "cell_type": "heading",
     "level": 1,
     "metadata": {},
     "source": [
      "Thanisisa test\u5934\u9a6c\u514bnotebook"
     ]
    },
    {
     "cell_type": "code",
     "collapsed": false,
     "input": [],
     "language": "python",
     "metadata": {},
     "outputs": []
    }
   ],
   "metadata": {}
  }
 ]
}